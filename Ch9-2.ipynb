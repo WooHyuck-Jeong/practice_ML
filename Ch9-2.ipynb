{
 "cells": [
  {
   "cell_type": "markdown",
   "metadata": {},
   "source": [
    "**9.2 순환 신경망으로 IMDB 리뷰 분류하기**"
   ]
  },
  {
   "cell_type": "markdown",
   "metadata": {},
   "source": [
    "**1) IMDB 리뷰 데이터셋**\n",
    "\n",
    "**토큰(token)** : 영어 문장은 모두 소문자로 바꾸고 구둣점을 삭제한 다음 공백을 기준으로 분리한 단어\n",
    "\n",
    "1개의 토근이 하나의 타임스텝에 해당\n",
    "\n",
    "토큰에 할당하는 정수 중 특정한 용도 \n",
    "\n",
    "(1) 0 : padding\n",
    "(2) 1 : 문장의 시작\n",
    "(3) 2 : 어휘 사전에 없는 토큰\n",
    "\n",
    "어휘사전 : 훈련 세트에서 고유한 단어를 뽑아 만든 목록"
   ]
  },
  {
   "cell_type": "code",
   "execution_count": 1,
   "metadata": {},
   "outputs": [
    {
     "name": "stdout",
     "output_type": "stream",
     "text": [
      "Downloading data from https://storage.googleapis.com/tensorflow/tf-keras-datasets/imdb.npz\n",
      "17465344/17464789 [==============================] - 0s 0us/step\n",
      "17473536/17464789 [==============================] - 0s 0us/step\n"
     ]
    }
   ],
   "source": [
    "# tensorflow.keras.dataest 패키지의 imdb모듈을 임포트\n",
    "\n",
    "import tensorflow as tf\n",
    "from tensorflow import keras\n",
    "from keras import datasets\n",
    "from keras.datasets import imdb\n",
    "\n",
    "(train_input, train_target), (test_input, test_target) = imdb.load_data(num_words= 500)"
   ]
  },
  {
   "cell_type": "code",
   "execution_count": 3,
   "metadata": {},
   "outputs": [
    {
     "name": "stdout",
     "output_type": "stream",
     "text": [
      "(25000,) (25000,)\n"
     ]
    }
   ],
   "source": [
    "print(train_input.shape, test_input.shape)\n",
    "\n",
    "# 훈련 세트와 테스트 세트가 각각 25000개의 샘플로 구성"
   ]
  },
  {
   "cell_type": "code",
   "execution_count": 4,
   "metadata": {},
   "outputs": [
    {
     "name": "stdout",
     "output_type": "stream",
     "text": [
      "218\n"
     ]
    }
   ],
   "source": [
    "# IMDB 리뷰 텍스트는 길이가 제각각\n",
    "# 따라서 고정 크기의 2차원 배열에 담기 보다는 리뷰마다 별도의 파이썬 리스트로 담아야 메모리를 효율적으로 사용\n",
    "\n",
    "# 첫 번째 리뷰의 길이 출력\n",
    "\n",
    "print(len(train_input[0]))\n",
    "# 첫 번째 리뷰의 길이는 218개의 토큰으로 이루어져 있음"
   ]
  },
  {
   "cell_type": "code",
   "execution_count": 6,
   "metadata": {},
   "outputs": [
    {
     "name": "stdout",
     "output_type": "stream",
     "text": [
      "189\n"
     ]
    }
   ],
   "source": [
    "print(len(train_input[1]))\n",
    "# 두 번째 리뷰의 길이는 189개의 토큰으로 구성"
   ]
  },
  {
   "cell_type": "code",
   "execution_count": 8,
   "metadata": {},
   "outputs": [
    {
     "name": "stdout",
     "output_type": "stream",
     "text": [
      "[1, 14, 22, 16, 43, 2, 2, 2, 2, 65, 458, 2, 66, 2, 4, 173, 36, 256, 5, 25, 100, 43, 2, 112, 50, 2, 2, 9, 35, 480, 284, 5, 150, 4, 172, 112, 167, 2, 336, 385, 39, 4, 172, 2, 2, 17, 2, 38, 13, 447, 4, 192, 50, 16, 6, 147, 2, 19, 14, 22, 4, 2, 2, 469, 4, 22, 71, 87, 12, 16, 43, 2, 38, 76, 15, 13, 2, 4, 22, 17, 2, 17, 12, 16, 2, 18, 2, 5, 62, 386, 12, 8, 316, 8, 106, 5, 4, 2, 2, 16, 480, 66, 2, 33, 4, 130, 12, 16, 38, 2, 5, 25, 124, 51, 36, 135, 48, 25, 2, 33, 6, 22, 12, 215, 28, 77, 52, 5, 14, 407, 16, 82, 2, 8, 4, 107, 117, 2, 15, 256, 4, 2, 7, 2, 5, 2, 36, 71, 43, 2, 476, 26, 400, 317, 46, 7, 4, 2, 2, 13, 104, 88, 4, 381, 15, 297, 98, 32, 2, 56, 26, 141, 6, 194, 2, 18, 4, 226, 22, 21, 134, 476, 26, 480, 5, 144, 30, 2, 18, 51, 36, 28, 224, 92, 25, 104, 4, 226, 65, 16, 38, 2, 88, 12, 16, 283, 5, 16, 2, 113, 103, 32, 15, 16, 2, 19, 178, 32]\n"
     ]
    }
   ],
   "source": [
    "# 하나의 리뷰가 하나의 샘플이 됨\n",
    "\n",
    "# 첫 번째 리뷰에 담긴 내용 출력\n",
    "\n",
    "print(train_input[0])\n",
    "\n",
    "# num_words= 500으로 지정 ==> 어휘 사전에는 500개의 단어만 들어가 있음\n",
    "# 어휘사전에 없는 단어는 2로 표시"
   ]
  },
  {
   "cell_type": "code",
   "execution_count": 12,
   "metadata": {},
   "outputs": [
    {
     "name": "stdout",
     "output_type": "stream",
     "text": [
      "[1 0 0 1 0 0 1 0 1 0 1 0 0 0 0 0 1 1 0 1]\n"
     ]
    }
   ],
   "source": [
    "# 타깃 데이터 출력\n",
    "print(train_target[:20])\n",
    "\n",
    "# 리뷰가 긍정인지 부정인지 판단\n",
    "# 이진 분류 문제 : 0(부정) 1(긍정)"
   ]
  },
  {
   "cell_type": "code",
   "execution_count": 13,
   "metadata": {},
   "outputs": [],
   "source": [
    "# 훈련 데이터에서 검증 데이터 분리\n",
    "\n",
    "from sklearn.model_selection import train_test_split\n",
    "\n",
    "train_input, val_input, train_target, val_target = train_test_split(train_input, train_target, test_size= 0.2, random_state= 42)"
   ]
  },
  {
   "cell_type": "code",
   "execution_count": 14,
   "metadata": {},
   "outputs": [],
   "source": [
    "# 각 리뷰의 길이를 계산해 numpy 배열에 저장\n",
    "# 리뷰의 평균 길이와 최소, 최대 길이 파악\n",
    "\n",
    "import numpy as np\n",
    "\n",
    "lengths = np.array([len(x) for x in train_input])"
   ]
  },
  {
   "cell_type": "code",
   "execution_count": 15,
   "metadata": {},
   "outputs": [
    {
     "name": "stdout",
     "output_type": "stream",
     "text": [
      "239.00925 178.0\n"
     ]
    }
   ],
   "source": [
    "# np.mean(), np.median()을 이용해 리뷰 길이의 평균과 중간값 계산\n",
    "\n",
    "print(np.mean(lengths), np.median(lengths))"
   ]
  },
  {
   "cell_type": "code",
   "execution_count": 16,
   "metadata": {},
   "outputs": [
    {
     "data": {
      "image/png": "[encoded data removed]",
      "text/plain": [
       "<Figure size 432x288 with 1 Axes>"
      ]
     },
     "metadata": {
      "needs_background": "light"
     },
     "output_type": "display_data"
    }
   ],
   "source": [
    "# 히스토그램으로 lenghts의 배열 출력\n",
    "\n",
    "import matplotlib.pyplot as plt\n",
    "\n",
    "plt.hist(lengths)\n",
    "plt.xlabel('length')\n",
    "plt.ylabel('frequency')\n",
    "plt.show()"
   ]
  },
  {
   "cell_type": "code",
   "execution_count": 18,
   "metadata": {},
   "outputs": [],
   "source": [
    "# 중간값 보다 짧은 100개의 단어만 사용\n",
    "# 100개의 단어보다 작은 리뷰에는 길이를 100에 맞추기 위해 padding이 필요\n",
    "# 패딩을 나타내는 토큰으로 0을 사용\n",
    "# pad_sequences() 메서드를 통해 길이를 100으로 padding\n",
    "\n",
    "from keras.preprocessing.sequence import pad_sequences\n",
    "train_seq = pad_sequences(train_input, maxlen= 100)\n",
    "\n",
    "# maxlen에 원하는 길이를 지정 -> 100보다 긴 경우 잘라내고, 짧은 경우 0으로 padding"
   ]
  },
  {
   "cell_type": "code",
   "execution_count": 20,
   "metadata": {},
   "outputs": [
    {
     "name": "stdout",
     "output_type": "stream",
     "text": [
      "(20000, 100)\n"
     ]
    }
   ],
   "source": [
    "print(train_seq.shape)\n",
    "\n",
    "# train_input은 파이썬 리스트 배열이었지만 길이를 100으로 padding한 train_seq는 (20000, 100) 크기의 2차원 배열이 됨"
   ]
  },
  {
   "cell_type": "code",
   "execution_count": 21,
   "metadata": {},
   "outputs": [
    {
     "name": "stdout",
     "output_type": "stream",
     "text": [
      "[ 10   4  20   9   2 364 352   5  45   6   2   2  33 269   8   2 142   2\n",
      "   5   2  17  73  17 204   5   2  19  55   2   2  92  66 104  14  20  93\n",
      "  76   2 151  33   4  58  12 188   2 151  12 215  69 224 142  73 237   6\n",
      "   2   7   2   2 188   2 103  14  31  10  10 451   7   2   5   2  80  91\n",
      "   2  30   2  34  14  20 151  50  26 131  49   2  84  46  50  37  80  79\n",
      "   6   2  46   7  14  20  10  10 470 158]\n"
     ]
    }
   ],
   "source": [
    "# train_seq에 있는 첫 번째 샘플 출력\n",
    "\n",
    "print(train_seq[0])\n",
    "\n",
    "# 샘플 앞뒤에 padding값 0이 없음 ==> 100보다 길다"
   ]
  },
  {
   "cell_type": "code",
   "execution_count": 23,
   "metadata": {},
   "outputs": [
    {
     "name": "stdout",
     "output_type": "stream",
     "text": [
      "[6, 2, 46, 7, 14, 20, 10, 10, 470, 158]\n"
     ]
    }
   ],
   "source": [
    "print(train_input[0][-10 :])\n",
    "\n",
    "# 음수 인덱스와 슬라이싱을 통해 train_input[0]에 있는 마지막 10개의 토큰 출력\n",
    "# train_seq[0]과 일치함 ==> train_input[0]의 앞부분이 잘림"
   ]
  },
  {
   "cell_type": "code",
   "execution_count": 24,
   "metadata": {},
   "outputs": [],
   "source": [
    "# pad_sequences() 메서드는 기본적으로 maxlen보다 긴 시퀀스의 앞부분을 잘라냄\n",
    "# 일반적으로 시퀀스의 뒷부분의 정보가 더 유용하리라 기대하기 때문\n",
    "# 만약 시퀀스의 뒷부분을 잘라내고 싶다면 pad_sequences() 메서드의 truncating 매개변수의 값을 기본값 'pre'가 아닌 'post'로 변경할 것"
   ]
  },
  {
   "cell_type": "code",
   "execution_count": 26,
   "metadata": {},
   "outputs": [
    {
     "name": "stdout",
     "output_type": "stream",
     "text": [
      "[  0   0   0   0   1   2 195  19  49   2   2 190   4   2 352   2 183  10\n",
      "  10  13  82  79   4   2  36  71 269   8   2  25  19  49   7   4   2   2\n",
      "   2   2   2  10  10  48  25  40   2  11   2   2  40   2   2   5   4   2\n",
      "   2  95  14 238  56 129   2  10  10  21   2  94 364 352   2   2  11 190\n",
      "  24 484   2   7  94 205 405  10  10  87   2  34  49   2   7   2   2   2\n",
      "   2   2 290   2  46  48  64  18   4   2]\n"
     ]
    }
   ],
   "source": [
    "# train_seq에 있는 여섯 번째 샘플 출력\n",
    "\n",
    "print(train_seq[5])\n",
    "# 앞부분에 padding 값 0 존재 ==> 샘플의 길이가 100 보다 짧음\n",
    "# padding 값은 앞부분에 추가 됨\n",
    "\n",
    "# 시퀀스 마지막에 있는 단어가 셀의 은닉 상태에 가장 큰 영향 ==> 마지막에 패딩 추가하는 것은 선호되지 않음"
   ]
  },
  {
   "cell_type": "code",
   "execution_count": 27,
   "metadata": {},
   "outputs": [
    {
     "name": "stdout",
     "output_type": "stream",
     "text": [
      "(5000, 100)\n"
     ]
    }
   ],
   "source": [
    "# 검증 세트의 길이 100으로 수정\n",
    "\n",
    "val_seq = pad_sequences(val_input, maxlen= 100)\n",
    "\n",
    "print(val_seq.shape)"
   ]
  },
  {
   "cell_type": "markdown",
   "metadata": {},
   "source": [
    "**2) 순환 신경망 만들기**"
   ]
  },
  {
   "cell_type": "code",
   "execution_count": 29,
   "metadata": {},
   "outputs": [],
   "source": [
    "model = keras.models.Sequential()\n",
    "\n",
    "model.add(keras.layers.SimpleRNN(8, input_shape= (100, 500)))   # activation은 기본값인 tanh(hyperbolic tangent) 사용\n",
    "# 샘플의 길이를 100으로 padding 하였으므로 첫 번째 차원은 100\n",
    "# 토큰을 정수로 변환한 데이터를 신경망에 주입 -> 큰 정수가 큰 활성화 출력 ==> 단순한 정수값을 신경망에 주입하기 위해 다른 방식 필요\n",
    "# 정수값에 있는 크기 속성을 없애고 각 정수를 고유하게 표현하는 방법 = one-hot encoding\n",
    "model.add(keras.layers.Dense(1, activation= 'sigmoid'))"
   ]
  },
  {
   "cell_type": "code",
   "execution_count": 30,
   "metadata": {},
   "outputs": [],
   "source": [
    "# 만약 train_seq[0]의 첫 번째 토큰인 10을 one-hot encoding으로 변환 -> 열한 번째 원소만 1, 나머지는 0인 배열\n",
    "# imdb.load_data() 함수에서 num_words= 500으로 지정하였기 때문에 고유한 단어는 500개\n",
    "# 훈련 데이터에 포함될 수 있는 정수값의 범위는 0(padding token)에서 499까지, 총 500개\n",
    "# 따라서 이 범위를 one-hot encoding으로 표현하려면 배열의 길이가 500이어야 함"
   ]
  },
  {
   "cell_type": "code",
   "execution_count": 31,
   "metadata": {},
   "outputs": [],
   "source": [
    "# keras의 one-hot encoding 유틸리티 to_categorical() 메서드를 사용하여 변환\n",
    "\n",
    "train_oh = keras.utils.to_categorical(train_seq)"
   ]
  },
  {
   "cell_type": "code",
   "execution_count": 32,
   "metadata": {},
   "outputs": [
    {
     "name": "stdout",
     "output_type": "stream",
     "text": [
      "(20000, 100, 500)\n"
     ]
    }
   ],
   "source": [
    "print(train_oh.shape)\n",
    "\n",
    "# 정수 하나마다 모두 500 차원의 배열로 변경되었기 때문에 (20000, 100)에서 (20000, 100, 500)으로 변환"
   ]
  },
  {
   "cell_type": "code",
   "execution_count": 33,
   "metadata": {},
   "outputs": [],
   "source": [
    "# 따라서 SimppleRNN 클래스의 input_shape= (100,500)으로 지정"
   ]
  },
  {
   "cell_type": "code",
   "execution_count": 34,
   "metadata": {},
   "outputs": [
    {
     "name": "stdout",
     "output_type": "stream",
     "text": [
      "[0. 0. 0. 0. 0. 0. 0. 0. 0. 0. 1. 0.]\n"
     ]
    }
   ],
   "source": [
    "# train_oh의 첫 번째 샘플의 첫 번째 토큰 10의 one-hot encoding 확인\n",
    "\n",
    "print(train_oh[0][0][:12])"
   ]
  },
  {
   "cell_type": "code",
   "execution_count": 35,
   "metadata": {},
   "outputs": [
    {
     "name": "stdout",
     "output_type": "stream",
     "text": [
      "1.0\n"
     ]
    }
   ],
   "source": [
    "# 나머지 원소가 0인지 확인\n",
    "\n",
    "print(np.sum(train_oh[0][0]))"
   ]
  },
  {
   "cell_type": "code",
   "execution_count": 36,
   "metadata": {},
   "outputs": [],
   "source": [
    "# val_seq one-hot encoding\n",
    "\n",
    "val_oh = keras.utils.to_categorical(val_seq)"
   ]
  },
  {
   "cell_type": "code",
   "execution_count": 37,
   "metadata": {},
   "outputs": [
    {
     "name": "stdout",
     "output_type": "stream",
     "text": [
      "Model: \"sequential_1\"\n",
      "_________________________________________________________________\n",
      " Layer (type)                Output Shape              Param #   \n",
      "=================================================================\n",
      " simple_rnn_1 (SimpleRNN)    (None, 8)                 4072      \n",
      "                                                                 \n",
      " dense_1 (Dense)             (None, 1)                 9         \n",
      "                                                                 \n",
      "=================================================================\n",
      "Total params: 4,081\n",
      "Trainable params: 4,081\n",
      "Non-trainable params: 0\n",
      "_________________________________________________________________\n"
     ]
    }
   ],
   "source": [
    "# Model Summary()\n",
    "\n",
    "model.summary()"
   ]
  },
  {
   "cell_type": "code",
   "execution_count": 38,
   "metadata": {},
   "outputs": [
    {
     "data": {
      "image/png": "[encoded data removed]",
      "text/plain": [
       "<IPython.core.display.Image object>"
      ]
     },
     "execution_count": 38,
     "metadata": {},
     "output_type": "execute_result"
    }
   ],
   "source": [
    "keras.utils.plot_model(model, show_shapes= True)"
   ]
  },
  {
   "cell_type": "code",
   "execution_count": 39,
   "metadata": {},
   "outputs": [],
   "source": [
    "# 순환층에 사용된 모델 파라미터 수 계산\n",
    "# 입력 토큰은 500차원의 one-hot encoding 배열\n",
    "# 순환층의 뉴런 8개와 완전 연결\n",
    "# 500 x 8 = 4000개의 가중치\n",
    "# 순환층의 은닉 상태는 다시 다음 타임스텝에 사용을 위해 또 다른 가중치와 곱해짐\n",
    "# 이 은닉 상태도 순환층의 뉴런과 완전 연결 : 8(은닉 상태 크기) x 8(뉴런의 개수) = 64개의 가중치가 필요\n",
    "# 뉴런 마다 하나의 절편이 존재\n",
    "# 따라서 4000 + 64 + 8 = 4072개의 모델 파라미터 필요"
   ]
  },
  {
   "cell_type": "markdown",
   "metadata": {},
   "source": [
    "**3) 순환 신경망 훈련하기**"
   ]
  },
  {
   "cell_type": "code",
   "execution_count": 40,
   "metadata": {},
   "outputs": [
    {
     "name": "stdout",
     "output_type": "stream",
     "text": [
      "Epoch 1/100\n",
      "313/313 [==============================] - 35s 108ms/step - loss: 0.6989 - accuracy: 0.5128 - val_loss: 0.6927 - val_accuracy: 0.5302\n",
      "Epoch 2/100\n",
      "313/313 [==============================] - 33s 106ms/step - loss: 0.6781 - accuracy: 0.5734 - val_loss: 0.6724 - val_accuracy: 0.5962\n",
      "Epoch 3/100\n",
      "313/313 [==============================] - 34s 108ms/step - loss: 0.6585 - accuracy: 0.6161 - val_loss: 0.6546 - val_accuracy: 0.6312\n",
      "Epoch 4/100\n",
      "313/313 [==============================] - 33s 107ms/step - loss: 0.6391 - accuracy: 0.6518 - val_loss: 0.6361 - val_accuracy: 0.6570\n",
      "Epoch 5/100\n",
      "313/313 [==============================] - 34s 109ms/step - loss: 0.6185 - accuracy: 0.6824 - val_loss: 0.6158 - val_accuracy: 0.6824\n",
      "Epoch 6/100\n",
      "313/313 [==============================] - 34s 109ms/step - loss: 0.5921 - accuracy: 0.7148 - val_loss: 0.5893 - val_accuracy: 0.7208\n",
      "Epoch 7/100\n",
      "313/313 [==============================] - 34s 108ms/step - loss: 0.5724 - accuracy: 0.7319 - val_loss: 0.5726 - val_accuracy: 0.7262\n",
      "Epoch 8/100\n",
      "313/313 [==============================] - 34s 107ms/step - loss: 0.5547 - accuracy: 0.7452 - val_loss: 0.5586 - val_accuracy: 0.7358\n",
      "Epoch 9/100\n",
      "313/313 [==============================] - 33s 107ms/step - loss: 0.5375 - accuracy: 0.7555 - val_loss: 0.5421 - val_accuracy: 0.7454\n",
      "Epoch 10/100\n",
      "313/313 [==============================] - 34s 108ms/step - loss: 0.5227 - accuracy: 0.7642 - val_loss: 0.5327 - val_accuracy: 0.7460\n",
      "Epoch 11/100\n",
      "313/313 [==============================] - 33s 106ms/step - loss: 0.5098 - accuracy: 0.7716 - val_loss: 0.5195 - val_accuracy: 0.7550\n",
      "Epoch 12/100\n",
      "313/313 [==============================] - 33s 106ms/step - loss: 0.4980 - accuracy: 0.7778 - val_loss: 0.5108 - val_accuracy: 0.7576\n",
      "Epoch 13/100\n",
      "313/313 [==============================] - 33s 107ms/step - loss: 0.4874 - accuracy: 0.7846 - val_loss: 0.5027 - val_accuracy: 0.7650\n",
      "Epoch 14/100\n",
      "313/313 [==============================] - 33s 106ms/step - loss: 0.4786 - accuracy: 0.7870 - val_loss: 0.4928 - val_accuracy: 0.7732\n",
      "Epoch 15/100\n",
      "313/313 [==============================] - 33s 107ms/step - loss: 0.4701 - accuracy: 0.7930 - val_loss: 0.4854 - val_accuracy: 0.7766\n",
      "Epoch 16/100\n",
      "313/313 [==============================] - 33s 107ms/step - loss: 0.4619 - accuracy: 0.7983 - val_loss: 0.4855 - val_accuracy: 0.7752\n",
      "Epoch 17/100\n",
      "313/313 [==============================] - 34s 107ms/step - loss: 0.4560 - accuracy: 0.8003 - val_loss: 0.4770 - val_accuracy: 0.7838\n",
      "Epoch 18/100\n",
      "313/313 [==============================] - 34s 107ms/step - loss: 0.4506 - accuracy: 0.8021 - val_loss: 0.4742 - val_accuracy: 0.7802\n",
      "Epoch 19/100\n",
      "313/313 [==============================] - 34s 108ms/step - loss: 0.4453 - accuracy: 0.8053 - val_loss: 0.4688 - val_accuracy: 0.7860\n",
      "Epoch 20/100\n",
      "313/313 [==============================] - 34s 109ms/step - loss: 0.4409 - accuracy: 0.8069 - val_loss: 0.4663 - val_accuracy: 0.7828\n",
      "Epoch 21/100\n",
      "313/313 [==============================] - 34s 109ms/step - loss: 0.4368 - accuracy: 0.8081 - val_loss: 0.4628 - val_accuracy: 0.7870\n",
      "Epoch 22/100\n",
      "313/313 [==============================] - 34s 110ms/step - loss: 0.4339 - accuracy: 0.8120 - val_loss: 0.4619 - val_accuracy: 0.7860\n",
      "Epoch 23/100\n",
      "313/313 [==============================] - 34s 109ms/step - loss: 0.4303 - accuracy: 0.8110 - val_loss: 0.4583 - val_accuracy: 0.7902\n",
      "Epoch 24/100\n",
      "313/313 [==============================] - 34s 107ms/step - loss: 0.4276 - accuracy: 0.8137 - val_loss: 0.4557 - val_accuracy: 0.7930\n",
      "Epoch 25/100\n",
      "313/313 [==============================] - 34s 108ms/step - loss: 0.4247 - accuracy: 0.8138 - val_loss: 0.4595 - val_accuracy: 0.7902\n",
      "Epoch 26/100\n",
      "313/313 [==============================] - 34s 108ms/step - loss: 0.4228 - accuracy: 0.8156 - val_loss: 0.4560 - val_accuracy: 0.7932\n",
      "Epoch 27/100\n",
      "313/313 [==============================] - 34s 108ms/step - loss: 0.4208 - accuracy: 0.8168 - val_loss: 0.4550 - val_accuracy: 0.7904\n",
      "Epoch 28/100\n",
      "313/313 [==============================] - 34s 108ms/step - loss: 0.4186 - accuracy: 0.8152 - val_loss: 0.4556 - val_accuracy: 0.7888\n",
      "Epoch 29/100\n",
      "313/313 [==============================] - 34s 107ms/step - loss: 0.4174 - accuracy: 0.8162 - val_loss: 0.4546 - val_accuracy: 0.7914\n",
      "Epoch 30/100\n",
      "313/313 [==============================] - 33s 106ms/step - loss: 0.4160 - accuracy: 0.8166 - val_loss: 0.4520 - val_accuracy: 0.7926\n",
      "Epoch 31/100\n",
      "313/313 [==============================] - 33s 106ms/step - loss: 0.4138 - accuracy: 0.8195 - val_loss: 0.4613 - val_accuracy: 0.7858\n",
      "Epoch 32/100\n",
      "313/313 [==============================] - 33s 107ms/step - loss: 0.4127 - accuracy: 0.8196 - val_loss: 0.4519 - val_accuracy: 0.7936\n",
      "Epoch 33/100\n",
      "313/313 [==============================] - 34s 107ms/step - loss: 0.4112 - accuracy: 0.8189 - val_loss: 0.4530 - val_accuracy: 0.7932\n",
      "Epoch 34/100\n",
      "313/313 [==============================] - 34s 108ms/step - loss: 0.4102 - accuracy: 0.8204 - val_loss: 0.4505 - val_accuracy: 0.7926\n",
      "Epoch 35/100\n",
      "313/313 [==============================] - 34s 107ms/step - loss: 0.4086 - accuracy: 0.8215 - val_loss: 0.4541 - val_accuracy: 0.7886\n",
      "Epoch 36/100\n",
      "313/313 [==============================] - 34s 108ms/step - loss: 0.4080 - accuracy: 0.8216 - val_loss: 0.4515 - val_accuracy: 0.7924\n",
      "Epoch 37/100\n",
      "313/313 [==============================] - 34s 108ms/step - loss: 0.4063 - accuracy: 0.8224 - val_loss: 0.4557 - val_accuracy: 0.7908\n"
     ]
    }
   ],
   "source": [
    "# RMSprop의 학습률 0.001을 사용하지 않기 위해 별도의 RMSprop 객체를 만들어 학습률을 0.0001로 지정\n",
    "rmsprop = keras.optimizers.RMSprop(learning_rate= 1e-4)\n",
    "\n",
    "# Epochs 100, batch_size= 64\n",
    "\n",
    "model.compile(\n",
    "    optimizer= rmsprop,\n",
    "    loss= 'binary_crossentropy',\n",
    "    metrics= ['accuracy']\n",
    ")\n",
    "\n",
    "checkpoint_cb = keras.callbacks.ModelCheckpoint('best-simplernn-model.h5', save_best_only= True)\n",
    "\n",
    "early_stopping_cb = keras.callbacks.EarlyStopping(patience= 3, restore_best_weights= True)\n",
    "\n",
    "history = model.fit(train_oh, train_target,\n",
    "                    epochs= 100,\n",
    "                    batch_size= 64,\n",
    "                    validation_data=(val_oh, val_target),\n",
    "                    callbacks= [checkpoint_cb, early_stopping_cb]\n",
    "                    )\n"
   ]
  },
  {
   "cell_type": "code",
   "execution_count": 44,
   "metadata": {},
   "outputs": [
    {
     "data": {
      "image/png": "[encoded data removed]",
      "text/plain": [
       "<Figure size 432x288 with 1 Axes>"
      ]
     },
     "metadata": {
      "needs_background": "light"
     },
     "output_type": "display_data"
    }
   ],
   "source": [
    "#plt.plot(history.history['acc'])\n",
    "#plt.plot(history.history['val_acc'])\n",
    "plt.plot(history.history['loss'])\n",
    "plt.plot(history.history['val_loss'])\n",
    "plt.legend(['acc', 'val_acc', 'loss', 'val_loss'])\n",
    "plt.show()"
   ]
  },
  {
   "cell_type": "code",
   "execution_count": 47,
   "metadata": {},
   "outputs": [
    {
     "name": "stdout",
     "output_type": "stream",
     "text": [
      "4000000000 1000000000\n"
     ]
    }
   ],
   "source": [
    "# 입력 데이터 one-hot encoding으로 변환 시 입력 데이터가 커짐\n",
    "\n",
    "print(train_oh.nbytes, val_oh.nbytes)\n",
    "\n",
    "# 토큰 1 개를 500차원으로 변경하여 발생하는 문제점"
   ]
  },
  {
   "cell_type": "markdown",
   "metadata": {},
   "source": [
    "**4) 단어 임베딩**"
   ]
  },
  {
   "cell_type": "markdown",
   "metadata": {},
   "source": [
    "**단어 임베딩(word embedding)**\n",
    "\n",
    "각 단어를 고정된 크기의 실수 벡터로 변환\n",
    "\n",
    "one-hot encoding 벡터보다 훨씬 의미 있는 값으로 채워져 있음 ==> 자연어 처리에서 더 좋은 성능\n",
    "\n",
    "**keras.layers.Embedding()** 사용\n",
    "\n",
    "모델에 추가하면 모든 벡터가 랜덤하게 초기화 됨\n",
    "\n",
    "장점 : 입력으로 정수 데이터를 사용 ==> one-hot encoding된 train_oh가 아닌 train_seq를 사용 가능 ==> 메모리 효율적\n",
    "\n",
    "(100,) 크기의 샘플을 (100,20)과 같이 2차원 배열로 변환"
   ]
  },
  {
   "cell_type": "code",
   "execution_count": 49,
   "metadata": {},
   "outputs": [],
   "source": [
    "model2 = keras.Sequential()\n",
    "\n",
    "model2.add(keras.layers.Embedding(500, 16, input_length= 100))\n",
    "# 500 : 어휘 사전\n",
    "# 16 : 임베딩 벡터 크기\n",
    "# input_length : 입력 시퀀스의 길이 , 샘플의 길이를 100으로 padding 하여 train_seq 생성하였기 때문에 100으로 설정\n",
    "model2.add(keras.layers.SimpleRNN(8))\n",
    "model2.add(keras.layers.Dense(1, activation= 'sigmoid'))"
   ]
  },
  {
   "cell_type": "code",
   "execution_count": 51,
   "metadata": {},
   "outputs": [
    {
     "name": "stdout",
     "output_type": "stream",
     "text": [
      "Model: \"sequential_2\"\n",
      "_________________________________________________________________\n",
      " Layer (type)                Output Shape              Param #   \n",
      "=================================================================\n",
      " embedding (Embedding)       (None, 100, 16)           8000      \n",
      "                                                                 \n",
      " simple_rnn_2 (SimpleRNN)    (None, 8)                 200       \n",
      "                                                                 \n",
      " dense_2 (Dense)             (None, 1)                 9         \n",
      "                                                                 \n",
      "=================================================================\n",
      "Total params: 8,209\n",
      "Trainable params: 8,209\n",
      "Non-trainable params: 0\n",
      "_________________________________________________________________\n"
     ]
    }
   ],
   "source": [
    "model2.summary()"
   ]
  },
  {
   "cell_type": "code",
   "execution_count": 53,
   "metadata": {},
   "outputs": [],
   "source": [
    "# 모델 파라미터 계산\n",
    "\n",
    "# Embedding 클래스는 500개의 각 토큰을 크기가 16인 벡터로 변경 : 500 * 16 = 8,000개의 파라미터\n",
    "# SimpleRNN 층은 임베딩 벡터의 크기가 16이므로 8개의 뉴런과 곱해짐 : 16 * 8 = 128\n",
    "# 은닉 상태에 곱해지는 가중치 8 * 8 = 64\n",
    "# 8개의 절편 존재\n",
    "# 따라서 순환층에 있는 전체 모델 파라미터는 128 + 64 + 8 = 200\n",
    "# Dense층의 가중치 : 9"
   ]
  },
  {
   "cell_type": "code",
   "execution_count": 54,
   "metadata": {},
   "outputs": [
    {
     "name": "stdout",
     "output_type": "stream",
     "text": [
      "Epoch 1/100\n",
      "313/313 [==============================] - 44s 139ms/step - loss: 0.6922 - accuracy: 0.5253 - val_loss: 0.6728 - val_accuracy: 0.5864\n",
      "Epoch 2/100\n",
      "313/313 [==============================] - 44s 142ms/step - loss: 0.6360 - accuracy: 0.6509 - val_loss: 0.6151 - val_accuracy: 0.6776\n",
      "Epoch 3/100\n",
      "313/313 [==============================] - 45s 143ms/step - loss: 0.5848 - accuracy: 0.7133 - val_loss: 0.5757 - val_accuracy: 0.7182\n",
      "Epoch 4/100\n",
      "313/313 [==============================] - 45s 143ms/step - loss: 0.5480 - accuracy: 0.7469 - val_loss: 0.5500 - val_accuracy: 0.7380\n",
      "Epoch 5/100\n",
      "313/313 [==============================] - 43s 138ms/step - loss: 0.5224 - accuracy: 0.7646 - val_loss: 0.5292 - val_accuracy: 0.7546\n",
      "Epoch 6/100\n",
      "313/313 [==============================] - 43s 138ms/step - loss: 0.5049 - accuracy: 0.7737 - val_loss: 0.5221 - val_accuracy: 0.7558\n",
      "Epoch 7/100\n",
      "313/313 [==============================] - 44s 140ms/step - loss: 0.4909 - accuracy: 0.7817 - val_loss: 0.5051 - val_accuracy: 0.7696\n",
      "Epoch 8/100\n",
      "313/313 [==============================] - 44s 141ms/step - loss: 0.4793 - accuracy: 0.7881 - val_loss: 0.4993 - val_accuracy: 0.7672\n",
      "Epoch 9/100\n",
      "313/313 [==============================] - 44s 139ms/step - loss: 0.4684 - accuracy: 0.7948 - val_loss: 0.4970 - val_accuracy: 0.7686\n",
      "Epoch 10/100\n",
      "313/313 [==============================] - 44s 139ms/step - loss: 0.4612 - accuracy: 0.7970 - val_loss: 0.4940 - val_accuracy: 0.7640\n",
      "Epoch 11/100\n",
      "313/313 [==============================] - 43s 139ms/step - loss: 0.4544 - accuracy: 0.7999 - val_loss: 0.4992 - val_accuracy: 0.7644\n",
      "Epoch 12/100\n",
      "313/313 [==============================] - 44s 142ms/step - loss: 0.4493 - accuracy: 0.8000 - val_loss: 0.4780 - val_accuracy: 0.7794\n",
      "Epoch 13/100\n",
      "313/313 [==============================] - 44s 140ms/step - loss: 0.4447 - accuracy: 0.8041 - val_loss: 0.4736 - val_accuracy: 0.7798\n",
      "Epoch 14/100\n",
      "313/313 [==============================] - 44s 139ms/step - loss: 0.4395 - accuracy: 0.8069 - val_loss: 0.4741 - val_accuracy: 0.7772\n",
      "Epoch 15/100\n",
      "313/313 [==============================] - 43s 137ms/step - loss: 0.4351 - accuracy: 0.8080 - val_loss: 0.4665 - val_accuracy: 0.7846\n",
      "Epoch 16/100\n",
      "313/313 [==============================] - 44s 140ms/step - loss: 0.4319 - accuracy: 0.8088 - val_loss: 0.4681 - val_accuracy: 0.7846\n",
      "Epoch 17/100\n",
      "313/313 [==============================] - 44s 140ms/step - loss: 0.4274 - accuracy: 0.8137 - val_loss: 0.4748 - val_accuracy: 0.7792\n",
      "Epoch 18/100\n",
      "313/313 [==============================] - 44s 139ms/step - loss: 0.4247 - accuracy: 0.8143 - val_loss: 0.4596 - val_accuracy: 0.7832\n",
      "Epoch 19/100\n",
      "313/313 [==============================] - 43s 137ms/step - loss: 0.4211 - accuracy: 0.8158 - val_loss: 0.4588 - val_accuracy: 0.7878\n",
      "Epoch 20/100\n",
      "313/313 [==============================] - 44s 140ms/step - loss: 0.4191 - accuracy: 0.8177 - val_loss: 0.4567 - val_accuracy: 0.7876\n",
      "Epoch 21/100\n",
      "313/313 [==============================] - 44s 139ms/step - loss: 0.4158 - accuracy: 0.8202 - val_loss: 0.4584 - val_accuracy: 0.7880\n",
      "Epoch 22/100\n",
      "313/313 [==============================] - 43s 137ms/step - loss: 0.4133 - accuracy: 0.8207 - val_loss: 0.4707 - val_accuracy: 0.7818\n",
      "Epoch 23/100\n",
      "313/313 [==============================] - 42s 134ms/step - loss: 0.4110 - accuracy: 0.8212 - val_loss: 0.4595 - val_accuracy: 0.7866\n"
     ]
    }
   ],
   "source": [
    "# one-hot encoding 보다 SimpleRNN에 주입되는 입력 크기는 감소하였지만 임베딩 벡터는 단어를 잘 표현 ==> 훈련 결과 개선될 것\n",
    "\n",
    "rmsprop = keras.optimizers.RMSprop(learning_rate= 0.0001)\n",
    "\n",
    "model2.compile(\n",
    "    optimizer= rmsprop,\n",
    "    loss= 'binary_crossentropy',\n",
    "    metrics= ['accuracy']\n",
    ")\n",
    "\n",
    "checkpoint_cb = keras.callbacks.ModelCheckpoint('best-embedding-model.h5', save_best_only= True)\n",
    "early_stopping_cb = keras.callbacks.EarlyStopping(patience= 3, restore_best_weights= True)\n",
    "\n",
    "history = model2.fit(\n",
    "    train_seq, train_target,\n",
    "    epochs= 100,\n",
    "    batch_size= 64,\n",
    "    validation_data= (val_seq, val_target),\n",
    "    verbose= 1,\n",
    "    callbacks= [checkpoint_cb, early_stopping_cb]\n",
    ")\n"
   ]
  },
  {
   "cell_type": "code",
   "execution_count": 55,
   "metadata": {},
   "outputs": [
    {
     "data": {
      "image/png": "[encoded data removed]",
      "text/plain": [
       "<Figure size 432x288 with 1 Axes>"
      ]
     },
     "metadata": {
      "needs_background": "light"
     },
     "output_type": "display_data"
    }
   ],
   "source": [
    "plt.plot(history.history['loss'])\n",
    "plt.plot(history.history['val_loss'])\n",
    "plt.legend(['acc', 'val_acc', 'loss', 'val_loss'])\n",
    "plt.show()"
   ]
  },
  {
   "cell_type": "code",
   "execution_count": null,
   "metadata": {},
   "outputs": [],
   "source": []
  }
 ],
 "metadata": {
  "interpreter": {
   "hash": "f54aa211a2ccc840cc7a109aa923afcf3d1bc58be22381604782dce87486fa90"
  },
  "kernelspec": {
   "display_name": "Python 3.8.12 ('venv')",
   "language": "python",
   "name": "python3"
  },
  "language_info": {
   "codemirror_mode": {
    "name": "ipython",
    "version": 3
   },
   "file_extension": ".py",
   "mimetype": "text/x-python",
   "name": "python",
   "nbconvert_exporter": "python",
   "pygments_lexer": "ipython3",
   "version": "3.8.12"
  },
  "orig_nbformat": 4
 },
 "nbformat": 4,
 "nbformat_minor": 2
}
